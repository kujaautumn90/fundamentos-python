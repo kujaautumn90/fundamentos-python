{
 "cells": [
  {
   "cell_type": "markdown",
   "id": "415c27a0",
   "metadata": {},
   "source": [
    "Fundamentos de Python"
   ]
  },
  {
   "cell_type": "code",
   "execution_count": 26,
   "id": "8ed78632",
   "metadata": {},
   "outputs": [],
   "source": [
    "# variables\n",
    "name = \"Josefino\""
   ]
  },
  {
   "cell_type": "code",
   "execution_count": 27,
   "id": "40d1a066",
   "metadata": {},
   "outputs": [
    {
     "data": {
      "text/plain": [
       "'Josefino'"
      ]
     },
     "execution_count": 27,
     "metadata": {},
     "output_type": "execute_result"
    }
   ],
   "source": [
    "name"
   ]
  },
  {
   "cell_type": "code",
   "execution_count": 28,
   "id": "1cdafc78",
   "metadata": {},
   "outputs": [],
   "source": [
    "last_name = \"Segundo\""
   ]
  },
  {
   "cell_type": "code",
   "execution_count": 29,
   "id": "a318e924",
   "metadata": {},
   "outputs": [
    {
     "data": {
      "text/plain": [
       "'Segundo'"
      ]
     },
     "execution_count": 29,
     "metadata": {},
     "output_type": "execute_result"
    }
   ],
   "source": [
    "last_name"
   ]
  },
  {
   "cell_type": "code",
   "execution_count": 41,
   "id": "30946232",
   "metadata": {},
   "outputs": [],
   "source": [
    "# numeros\n",
    "\n",
    "number1 = 5\n",
    "number2 = 2\n",
    "\n",
    "suma = number1 + number2"
   ]
  },
  {
   "cell_type": "code",
   "execution_count": 45,
   "id": "c19e2502",
   "metadata": {},
   "outputs": [
    {
     "name": "stdout",
     "output_type": "stream",
     "text": [
      "3\n"
     ]
    }
   ],
   "source": [
    "# Resta\n",
    "resta = number1 - number2\n",
    "\n",
    "print(resta)"
   ]
  },
  {
   "cell_type": "code",
   "execution_count": 44,
   "id": "2fe96cf1",
   "metadata": {},
   "outputs": [
    {
     "name": "stdout",
     "output_type": "stream",
     "text": [
      "7\n"
     ]
    }
   ],
   "source": [
    "# Suma\n",
    "print(suma)"
   ]
  },
  {
   "cell_type": "code",
   "execution_count": 46,
   "id": "af385152",
   "metadata": {},
   "outputs": [
    {
     "name": "stdout",
     "output_type": "stream",
     "text": [
      "El resultado de la suma es: 7\n"
     ]
    }
   ],
   "source": [
    "print(f\"El resultado de la suma es: {suma}\")"
   ]
  },
  {
   "cell_type": "code",
   "execution_count": 47,
   "id": "8e1e46ca",
   "metadata": {},
   "outputs": [
    {
     "data": {
      "text/plain": [
       "int"
      ]
     },
     "execution_count": 47,
     "metadata": {},
     "output_type": "execute_result"
    }
   ],
   "source": [
    "type(suma)"
   ]
  }
 ],
 "metadata": {
  "kernelspec": {
   "display_name": "Python 3",
   "language": "python",
   "name": "python3"
  },
  "language_info": {
   "codemirror_mode": {
    "name": "ipython",
    "version": 3
   },
   "file_extension": ".py",
   "mimetype": "text/x-python",
   "name": "python",
   "nbconvert_exporter": "python",
   "pygments_lexer": "ipython3",
   "version": "3.10.6"
  }
 },
 "nbformat": 4,
 "nbformat_minor": 5
}
